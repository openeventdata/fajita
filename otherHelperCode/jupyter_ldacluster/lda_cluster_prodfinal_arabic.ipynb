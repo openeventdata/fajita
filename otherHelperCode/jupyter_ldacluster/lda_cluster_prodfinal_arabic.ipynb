{
 "cells": [
  {
   "cell_type": "code",
   "execution_count": 6,
   "metadata": {},
   "outputs": [
    {
     "name": "stdout",
     "output_type": "stream",
     "text": [
      "CPU times: user 41min 10s, sys: 2h 48s, total: 2h 41min 59s\n",
      "Wall time: 31min 34s\n"
     ]
    }
   ],
   "source": [
    "%%time\n",
    "from pymongo import MongoClient\n",
    "from nltk.tokenize import RegexpTokenizer\n",
    "from stop_words import get_stop_words\n",
    "from nltk.stem.porter import PorterStemmer\n",
    "from gensim import corpora, models\n",
    "import gensim\n",
    "from sklearn.cluster import KMeans\n",
    "import numpy as np\n",
    "import pickle\n",
    "import time\n",
    "\n",
    "#start_time = time.time()\n",
    "\n",
    "client=MongoClient()\n",
    "client=MongoClient('mongodb://localhost:/')\n",
    "db=client['eventData']\n",
    "sen=db.documents_arabic\n",
    "\n",
    "tokenizer = RegexpTokenizer(r'\\w+')\n",
    "\n",
    "# create English stop words list\n",
    "en_stop = get_stop_words('ar')\n",
    "en_stop.append(' ب')\n",
    "en_stop.append('إلى')\n",
    "en_stop.append('إلى')\n",
    "\n",
    "# Create p_stemmer of class PorterStemmer\n",
    "p_stemmer = PorterStemmer()\n",
    "\n",
    "texts = []\n",
    "docIds=[]\n",
    "actuallyTrained=0;\n",
    "for i in sen.find():\n",
    "    try:\n",
    "        raw = ''.join(i['document']).lower()\n",
    "        tokens = tokenizer.tokenize(raw)\n",
    "        stopped_tokens = [i for i in tokens if not i in en_stop]\n",
    "        stemmed_tokens = [p_stemmer.stem(i) for i in stopped_tokens]\n",
    "        texts.append(stemmed_tokens)\n",
    "        docIds.append(i['_id'])\n",
    "        actuallyTrained=actuallyTrained+1\n",
    "    except:\n",
    "        pass\n",
    "\n",
    "dictionary = corpora.Dictionary(texts)\n",
    "corpus = [dictionary.doc2bow(text) for text in texts]\n",
    "ldamodel = gensim.models.ldamodel.LdaModel(corpus, num_topics=20, id2word = dictionary, passes=1)\n",
    "\n",
    "dim=20 \n",
    "result=[]\n",
    "for i in range(0,actuallyTrained):\n",
    "    feature=[]\n",
    "    previousindex=0\n",
    "    for item in ldamodel[corpus[i]]:\n",
    "        index=item[0]\n",
    "        #print(index)\n",
    "        for beforeindex in range(previousindex,index):\n",
    "            feature.append(0)\n",
    "        feature.append(item[1])\n",
    "        previousindex=index+1\n",
    "    while (len(feature)<dim):\n",
    "        feature.append(0);  #add in 0 at the end\n",
    "    result.append(feature)\n",
    "    \n",
    "kmeanstest=np.array(result)\n",
    "kmeans = KMeans(n_clusters=20, random_state=0).fit(kmeanstest)\n",
    "\n",
    "#and before building  the dictionary test if the size of docIds and cluster result dimensions are the same.\n",
    "try:\n",
    "    assert(len(docIds)==kmeans.labels_.size)\n",
    "    dictionary_cocId_topicClusterItBelongs={}\n",
    "    for i in range(0,actuallyTrained):\n",
    "        dictionary_cocId_topicClusterItBelongs.update({docIds[i]:kmeans.labels_[i]})\n",
    "except:\n",
    "    print(\"the docIds size is different from the topic # cluster size\")\n",
    "\n",
    "with open('traingrst_arabic.pkl', 'wb') as output:\n",
    "    pickle.dump(dictionary_cocId_topicClusterItBelongs,output)\n",
    "\n",
    "#print(\"--- %s seconds ---\" % (time.time() - start_time))\n",
    "\n"
   ]
  },
  {
   "cell_type": "markdown",
   "metadata": {},
   "source": [
    "#store the topic of the sentence to database."
   ]
  },
  {
   "cell_type": "code",
   "execution_count": 1,
   "metadata": {},
   "outputs": [
    {
     "name": "stdout",
     "output_type": "stream",
     "text": [
      "CPU times: user 660 ms, sys: 1.12 s, total: 1.78 s\n",
      "Wall time: 644 ms\n"
     ]
    }
   ],
   "source": [
    "%%time\n",
    "from pymongo import MongoClient\n",
    "from nltk.tokenize import RegexpTokenizer\n",
    "from stop_words import get_stop_words\n",
    "from nltk.stem.porter import PorterStemmer\n",
    "from gensim import corpora, models\n",
    "import gensim\n",
    "from sklearn.cluster import KMeans\n",
    "import numpy as np\n",
    "import pickle\n",
    "import time\n",
    "\n",
    "#start_time = time.time()\n",
    "\n",
    "client=MongoClient()\n",
    "client=MongoClient('mongodb://localhost:29017/')\n",
    "db=client['eventData']\n",
    "sen=db.documents_arabic"
   ]
  },
  {
   "cell_type": "code",
   "execution_count": 10,
   "metadata": {},
   "outputs": [
    {
     "name": "stdout",
     "output_type": "stream",
     "text": [
      "86253\n",
      "CPU times: user 16.5 s, sys: 1.87 s, total: 18.4 s\n",
      "Wall time: 28.9 s\n"
     ]
    }
   ],
   "source": [
    "%%time\n",
    "dic=pickle.load(open('traingrst_arabic.pkl', 'rb'))\n",
    "topic_set=0;\n",
    "for i in sen.find(modifiers={\"$snapshot\": True}):\n",
    "    try:\n",
    "        #find the topic from the dictionary\n",
    "        docid=i['_id']\n",
    "        topic=dic[docid]\n",
    "        #print(topic)\n",
    "        sen.update_many(\n",
    "        {\"_id\": str(docid)},\n",
    "        {\n",
    "        \"$set\": {\n",
    "            #this need to cast to int, otherwise it has a can't encode object error after it use pickle to load.\n",
    "            \"topic\":int(topic)\n",
    "        }\n",
    "        }\n",
    "        )\n",
    "        topic_set=topic_set+1\n",
    "    except Exception as e:\n",
    "        print(str(e))\n",
    "        pass\n",
    "print(topic_set)"
   ]
  },
  {
   "cell_type": "code",
   "execution_count": 38,
   "metadata": {
    "collapsed": true
   },
   "outputs": [],
   "source": [
    "from bson.son import SON\n",
    "pipeline = [\n",
    "     {\"$unwind\": \"$topic\"},\n",
    "     {\"$group\": {\"_id\": \"$topic\", \"count\": {\"$sum\": 1}}},\n",
    "     {\"$sort\": SON([(\"count\", -1), (\"_id\", -1)])}\n",
    " ]\n",
    "import pprint\n",
    "distribution=list(db.documents_arabic.aggregate(pipeline))"
   ]
  },
  {
   "cell_type": "code",
   "execution_count": 39,
   "metadata": {},
   "outputs": [
    {
     "data": {
      "text/plain": [
       "[{'_id': 0, 'count': 10310},\n",
       " {'_id': 15, 'count': 5631},\n",
       " {'_id': 4, 'count': 5432},\n",
       " {'_id': 12, 'count': 5156},\n",
       " {'_id': 16, 'count': 4808},\n",
       " {'_id': 7, 'count': 4779},\n",
       " {'_id': 6, 'count': 4534},\n",
       " {'_id': 2, 'count': 4254},\n",
       " {'_id': 19, 'count': 4169},\n",
       " {'_id': 10, 'count': 4167},\n",
       " {'_id': 17, 'count': 4050},\n",
       " {'_id': 9, 'count': 3963},\n",
       " {'_id': 3, 'count': 3951},\n",
       " {'_id': 14, 'count': 3778},\n",
       " {'_id': 18, 'count': 3732},\n",
       " {'_id': 13, 'count': 3471},\n",
       " {'_id': 11, 'count': 2918},\n",
       " {'_id': 5, 'count': 2742},\n",
       " {'_id': 1, 'count': 2736},\n",
       " {'_id': 8, 'count': 1672}]"
      ]
     },
     "execution_count": 39,
     "metadata": {},
     "output_type": "execute_result"
    }
   ],
   "source": [
    "distribution"
   ]
  },
  {
   "cell_type": "code",
   "execution_count": 46,
   "metadata": {
    "collapsed": true
   },
   "outputs": [],
   "source": [
    "xpos=[]\n",
    "ypos=[]\n",
    "for dictitem in distribution:\n",
    "    xpos.append(dictitem['_id'])\n",
    "    ypos.append(dictitem['count'])"
   ]
  },
  {
   "cell_type": "code",
   "execution_count": 47,
   "metadata": {},
   "outputs": [
    {
     "data": {
      "text/plain": [
       "[0, 15, 4, 12, 16, 7, 6, 2, 19, 10, 17, 9, 3, 14, 18, 13, 11, 5, 1, 8]"
      ]
     },
     "execution_count": 47,
     "metadata": {},
     "output_type": "execute_result"
    }
   ],
   "source": [
    "xpos"
   ]
  },
  {
   "cell_type": "code",
   "execution_count": 52,
   "metadata": {},
   "outputs": [
    {
     "data": {
      "image/png": "[encoded data removed]",
      "text/plain": [
       "<matplotlib.figure.Figure at 0x7fa588b398d0>"
      ]
     },
     "metadata": {},
     "output_type": "display_data"
    }
   ],
   "source": [
    "import matplotlib.pyplot as plt; \n",
    "plt.rcdefaults()\n",
    "import numpy as np\n",
    "import matplotlib.pyplot as plt\n",
    "#performance = [10,8,6,4,2,1]\n",
    "plt.bar(xpos, ypos)\n",
    "#plt.xticks(y_pos, objects)\n",
    "plt.ylabel('Document Under The Topic Count')\n",
    "plt.xlabel('Topic Index')\n",
    "plt.xticks(np.arange(0, 20, 1))\n",
    "plt.title('topic count model for arabic documents')\n",
    "plt.show()"
   ]
  },
  {
   "cell_type": "code",
   "execution_count": null,
   "metadata": {
    "collapsed": true
   },
   "outputs": [],
   "source": []
  }
 ],
 "metadata": {
  "kernelspec": {
   "display_name": "Python 3",
   "language": "python",
   "name": "python3"
  },
  "language_info": {
   "codemirror_mode": {
    "name": "ipython",
    "version": 3
   },
   "file_extension": ".py",
   "mimetype": "text/x-python",
   "name": "python",
   "nbconvert_exporter": "python",
   "pygments_lexer": "ipython3",
   "version": "3.5.2"
  }
 },
 "nbformat": 4,
 "nbformat_minor": 2
}
