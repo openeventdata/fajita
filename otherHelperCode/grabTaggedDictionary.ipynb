{
 "cells": [
  {
   "cell_type": "code",
   "execution_count": 1,
   "metadata": {
    "collapsed": true
   },
   "outputs": [],
   "source": [
    "import pymongo\n",
    "from pymongo import MongoClient\n",
    "client=MongoClient()\n",
    "client = MongoClient('portland.cs.ou.edu', 23755)\n",
    "db=client.lexisnexis\n",
    "db.authenticate('username','password')\n",
    "verbs=db.secondroles"
   ]
  },
  {
   "cell_type": "code",
   "execution_count": 35,
   "metadata": {
    "collapsed": true
   },
   "outputs": [],
   "source": [
    "sourcedic=db.sourcedictionaries\n",
    "verbdic=db.verbdictionaries"
   ]
  },
  {
   "cell_type": "code",
   "execution_count": 7,
   "metadata": {
    "collapsed": false
   },
   "outputs": [],
   "source": [
    "noundictionary=[]\n",
    "for dic in sourcedic.find():\n",
    "    noundictionary.append({\"noun\":dic[\"word\"],\"firstrole\":dic[\"firstRoleCode\"],\"secondrole\":dic[\"secondRoleCode\"],\"countrycode\":dic[\"countryCode\"],\"confidence_flag\":dic[\"confidenceFlag\"]})\n",
    "    "
   ]
  },
  {
   "cell_type": "code",
   "execution_count": 37,
   "metadata": {
    "collapsed": false
   },
   "outputs": [],
   "source": [
    "verbdictionary=[]\n",
    "for dic in verbdic.find():\n",
    "    verbdictionary.append({\"verb\":dic[\"word\"],\"verbcode\":dic[\"verbcode\"],\"confidenceFlag\":dic[\"confidenceFlag\"]})"
   ]
  },
  {
   "cell_type": "code",
   "execution_count": 12,
   "metadata": {
    "collapsed": false
   },
   "outputs": [
    {
     "data": {
      "text/plain": [
       "3525"
      ]
     },
     "execution_count": 12,
     "metadata": {},
     "output_type": "execute_result"
    }
   ],
   "source": [
    "len(noundictionary)\n"
   ]
  },
  {
   "cell_type": "code",
   "execution_count": 19,
   "metadata": {
    "collapsed": false
   },
   "outputs": [
    {
     "data": {
      "text/plain": [
       "{'confidence_flag': False,\n",
       " 'countrycode': 'SYR',\n",
       " 'firstrole': 'GOV',\n",
       " 'noun': 'السلطات السورية',\n",
       " 'secondrole': ''}"
      ]
     },
     "execution_count": 19,
     "metadata": {},
     "output_type": "execute_result"
    }
   ],
   "source": [
    "noundictionary[400]"
   ]
  },
  {
   "cell_type": "code",
   "execution_count": 33,
   "metadata": {
    "collapsed": false
   },
   "outputs": [],
   "source": [
    "thefile = open(\"noundic.txt\", \"w\")\n",
    "for item in noundictionary:\n",
    "    thefile.write(\"%s\\n\" % item)\n",
    "thefile.close()"
   ]
  },
  {
   "cell_type": "code",
   "execution_count": 38,
   "metadata": {
    "collapsed": true
   },
   "outputs": [],
   "source": [
    "thefile = open(\"verbdic.txt\", \"w\")\n",
    "for item in verbdictionary:\n",
    "    thefile.write(\"%s\\n\" % item)\n",
    "thefile.close()"
   ]
  },
  {
   "cell_type": "code",
   "execution_count": null,
   "metadata": {
    "collapsed": true
   },
   "outputs": [],
   "source": []
  }
 ],
 "metadata": {
  "kernelspec": {
   "display_name": "Python 3",
   "language": "python",
   "name": "python3"
  },
  "language_info": {
   "codemirror_mode": {
    "name": "ipython",
    "version": 3
   },
   "file_extension": ".py",
   "mimetype": "text/x-python",
   "name": "python",
   "nbconvert_exporter": "python",
   "pygments_lexer": "ipython3",
   "version": "3.4.3"
  }
 },
 "nbformat": 4,
 "nbformat_minor": 0
}
