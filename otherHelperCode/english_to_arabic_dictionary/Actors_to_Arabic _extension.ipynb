{
 "cells": [
  {
   "cell_type": "code",
   "execution_count": 64,
   "metadata": {
    "collapsed": true
   },
   "outputs": [],
   "source": [
    "import requests\n",
    "from bs4 import BeautifulSoup\n",
    "import re\n",
    "import json\n",
    "import pickle\n",
    "import datetime"
   ]
  },
  {
   "cell_type": "code",
   "execution_count": 2,
   "metadata": {
    "collapsed": true
   },
   "outputs": [],
   "source": [
    "def name_formatter(name):\n",
    "    name = re.sub(\"_\", \" \", name).strip().title()\n",
    "    return(name)"
   ]
  },
  {
   "cell_type": "code",
   "execution_count": 3,
   "metadata": {
    "collapsed": true
   },
   "outputs": [],
   "source": [
    "def ar_lookup(name):\n",
    "    \"\"\"\n",
    "    Convert names from English to Arabic using European Media Monitors and \n",
    "     code modified from Phil Schrodt.\n",
    "    \"\"\"\n",
    "    name = name_formatter(name)\n",
    "    base_url = \"http://emm.newsexplorer.eu/NewsExplorer/search/en/entities?query=\"\n",
    "    url = base_url + name\n",
    "    \n",
    "    try:\n",
    "        page = requests.get(url)\n",
    "        soup = BeautifulSoup(page.content, \"lxml\")\n",
    "        name_url = soup.find(\"p\", {\"class\" : \"center_headline\"}).find(\"a\")['href']\n",
    "    except Exception as e:\n",
    "        print(\"Couldn't get page of results back: \", e)\n",
    "        return []\n",
    "\n",
    "    try:\n",
    "        base = \"http://emm.newsexplorer.eu/NewsExplorer/search/en/\"\n",
    "        name_url = base + name_url\n",
    "        name_page = requests.get(name_url)\n",
    "        soup = BeautifulSoup(name_page.content, \"lxml\")\n",
    "        # check to make sure in list???? Take in alt names???/petrarch2/petrarch2/data/dictionaries\n",
    "        names = soup.find(\"td\", {\"colspan\" : \"1\"}).find_all(\"p\")\n",
    "        names = [i.text for i in names][1:]\n",
    "        names_en = [i for i in names if re.search(\"\\(.*?Eu|\\(.*?en\", i)]\n",
    "        names_en = [re.sub(\"\\s+?\\(.+?\\)\", \"\", name) for name in names_en]\n",
    "        print(\"Found match. Matched English name: \", names_en[0])\n",
    "        names_ar = [i for i in names if re.search(\"\\(.*?ar\", i)]\n",
    "        names_ar = [re.sub(\"\\s+?\\(.+?\\)\", \"\", name) for name in names_ar]\n",
    "import pickle\n",
    "im\n",
    "        return names_ar\n",
    "    except Exception:\n",
    "        traceback.print_exc()\n",
    "        return []"
   ]
  },
  {
   "cell_type": "code",
   "execution_count": 4,
   "metadata": {},
   "outputs": [
    {
     "name": "stdout",
     "output_type": "stream",
     "text": [
      "Found match. Matched English name:  Angela Merkel\n"
     ]
    },
    {
     "data": {
      "text/plain": [
       "['أنجيلا ميركل', 'أنجيلا ميركيل']"
      ]
     },
     "execution_count": 4,
     "metadata": {},
     "output_type": "execute_result"
    }
   ],
   "source": [
    "ar_lookup(\"ANGELA_MERKEL\")"
   ]
  },
  {
   "cell_type": "markdown",
   "metadata": {},
   "source": [
    " ##Dictionary loading part"
   ]
  },
  {
   "cell_type": "code",
   "execution_count": 6,
   "metadata": {
    "collapsed": true
   },
   "outputs": [],
   "source": [
    "def clean_line(line):\n",
    "    # Take out extra space, underscores, comments, etc.\n",
    "    cleaned = re.sub(\"_* .+\", \"\", line).strip()\n",
    "    cleaned = re.sub(\"_$\", \"\", cleaned, flags=re.MULTILINE)\n",
    "    return cleaned\n",
    "\n",
    "def ingest_dictionary(dict_path):\n",
    "    \"\"\"\n",
    "    Read in the country (or other) actor dictionaries.\n",
    "    \"\"\"\n",
    "    with open(dict_path) as f:\n",
    "        country_file = f.read()\n",
    "    split_file = country_file.split(\"\\n\")\n",
    "    \n",
    "    dict_dict = []\n",
    "    key_name = \"\"\n",
    "    alt_names = [] \n",
    "    roles = []\n",
    "\n",
    "    for line in split_file:\n",
    "        if not line:\n",
    "            pass\n",
    "        elif line[0] == \"#\":\n",
    "            pass\n",
    "        elif re.match(\"[A-Z]\", line[0]):\n",
    "            # handle the previous\n",
    "            entry = {\"actor_en\" : key_name,\n",
    "                    \"alt_names_en\" : alt_names,\n",
    "                    \"roles\" : roles}\n",
    "            dict_dict.append(entry)\n",
    "            # zero everything out\n",
    "            alt_names = []\n",
    "            roles = []\n",
    "            # make new key name\n",
    "            key_name = clean_line(line)\n",
    "            # check to see if the role is built in\n",
    "            if bool(re.search(\"\\[[A-Z]{3}\\]\", line)):\n",
    "                roles = re.findall(\"\\[(.+?)\\]\", line)\n",
    "        elif line[0] == \"+\":\n",
    "            cleaned = clean_line(line[1:])\n",
    "            alt_names.append(cleaned)\n",
    "        elif re.match(\"\\s\", line):\n",
    "            roles.append(line.strip())\n",
    "    return dict_dict \n",
    "dp = \"./Phoenix.Countries.actors.txt\"\n",
    "dict_dict = ingest_dictionary(dp)"
   ]
  },
  {
   "cell_type": "code",
   "execution_count": 7,
   "metadata": {},
   "outputs": [
    {
     "data": {
      "text/plain": [
       "18390"
      ]
     },
     "execution_count": 7,
     "metadata": {},
     "output_type": "execute_result"
    }
   ],
   "source": [
    "len(dict_dict)"
   ]
  },
  {
   "cell_type": "code",
   "execution_count": 8,
   "metadata": {},
   "outputs": [
    {
     "data": {
      "text/plain": [
       "{'actor_en': 'AHMAD_CHALABI',\n",
       " 'alt_names_en': [],\n",
       " 'roles': ['[IRQELI 620101-030901]',\n",
       "  '[IRQGOV 030901-030930]',\n",
       "  '[IRQGOV 031101-040630]',\n",
       "  '[IRQGOV 050601-060531]',\n",
       "  '[IRQELI]']}"
      ]
     },
     "execution_count": 8,
     "metadata": {},
     "output_type": "execute_result"
    }
   ],
   "source": [
    "dict_dict[7777]"
   ]
  },
  {
   "cell_type": "code",
   "execution_count": 9,
   "metadata": {},
   "outputs": [
    {
     "name": "stdout",
     "output_type": "stream",
     "text": [
      "Found match. Matched English name:  Ahmad Chalabi\n"
     ]
    },
    {
     "data": {
      "text/plain": [
       "['أحمد الجلبي', 'أحمد شلبي', 'أحمد جلبي']"
      ]
     },
     "execution_count": 9,
     "metadata": {},
     "output_type": "execute_result"
    }
   ],
   "source": [
    "ar_lookup(\"AHMAD_CHALABI\")"
   ]
  },
  {
   "cell_type": "code",
   "execution_count": 10,
   "metadata": {
    "collapsed": true
   },
   "outputs": [],
   "source": [
    "def eng_to_ar(dict_dict):\n",
    "    \"\"\"\n",
    "    Update an English language dictionary entry with Arabic names\n",
    "    \"\"\"\n",
    "    ar_names = ar_lookup(dict_dict[\"actor_en\"])\n",
    "    if not ar_names:\n",
    "        print(\"No match found.\")\n",
    "        return dict_dict\n",
    "    dict_dict['actor_ar'] = ar_names[0]\n",
    "    if len(ar_names) > 1:\n",
    "        dict_dict['alt_names_ar'] = ar_names[1:]\n",
    "    return dict_dict"
   ]
  },
  {
   "cell_type": "code",
   "execution_count": 174,
   "metadata": {},
   "outputs": [
    {
     "name": "stdout",
     "output_type": "stream",
     "text": [
      "Found match. Matched English name:  Ahmad Chalabi\n"
     ]
    }
   ],
   "source": [
    "test=eng_to_ar(dict_dict[7777])"
   ]
  },
  {
   "cell_type": "markdown",
   "metadata": {},
   "source": [
    "import pickle\n",
    "with open('countrycode.pkl', 'wb') as output:\n",
    "    pickle.dump(countrycode,output)"
   ]
  },
  {
   "cell_type": "code",
   "execution_count": 188,
   "metadata": {},
   "outputs": [],
   "source": [
    "dic=pickle.load(open('countrycode.pkl', 'rb'))"
   ]
  },
  {
   "cell_type": "code",
   "execution_count": 189,
   "metadata": {
    "collapsed": true
   },
   "outputs": [],
   "source": [
    "countrycode=[key for key,value in dic.items()]"
   ]
  },
  {
   "cell_type": "markdown",
   "metadata": {},
   "source": [
    "#Format stored in our db.\n",
    "{ \"_id\" : ObjectId(\"5772026ca78a30ce5acbec43\"), \n",
    " \"sentenceId\" : \"5771f20f0dfcd69f645102fa\", \n",
    " \"word\" : \"President Obama\", \n",
    " \"countryCode\" : \"USA\", \n",
    " \"firstRoleCode\" : \"GOV\", \n",
    " \"secondRoleCode\" : \"LEG\", \n",
    " \"dateStart\" : \"Sun Jun 01 2008 00:00:00 GMT-0500 (CDT)\", \n",
    " \"dateEnd\" : \"Wed Jun 01 2016 00:00:00 GMT-0500 (CDT)\", \n",
    " \"confidenceFlag\" : true, \n",
    " \"userId\" : \"577201cea78a30ce5acbec41\", \n",
    " \"userName\" : \"guest\", \n",
    " \"taggingTime\" : ISODate(\"2016-06-28T04:51:56.092Z\"),\n",
    " \"__v\" : 0 \n",
    " }"
   ]
  },
  {
   "cell_type": "code",
   "execution_count": 175,
   "metadata": {},
   "outputs": [
    {
     "data": {
      "text/plain": [
       "{'actor_ar': 'أحمد الجلبي',\n",
       " 'actor_en': 'AHMAD_CHALABI',\n",
       " 'alt_names_ar': ['أحمد شلبي', 'أحمد جلبي'],\n",
       " 'alt_names_en': [],\n",
       " 'roles': ['[IRQELI 620101-030901]',\n",
       "  '[IRQGOV 030901-030930]',\n",
       "  '[IRQGOV 031101-040630]',\n",
       "  '[IRQGOV 050601-060531]',\n",
       "  '[IRQELI]']}"
      ]
     },
     "execution_count": 175,
     "metadata": {},
     "output_type": "execute_result"
    }
   ],
   "source": [
    "test"
   ]
  },
  {
   "cell_type": "code",
   "execution_count": null,
   "metadata": {
    "collapsed": true
   },
   "outputs": [],
   "source": [
    "from pymongo import MongoClient\n",
    "client=MongoClient()\n",
    "client=MongoClient('mongodb://portland.cs.ou.edu:port/')\n",
    "db=client['lexisnexis']\n",
    "db.authenticate('username', 'password')\n",
    "secondroles=db.secondroles\n",
    "firstroles=db.agents\n",
    "secondrolelist=[]\n",
    "for item in secondroles.find():\n",
    "    secondrolelist.append(item['id'])\n",
    "firstrolelist=[]\n",
    "for item in firstroles.find():\n",
    "    firstrolelist.append(item['id'])"
   ]
  },
  {
   "cell_type": "code",
   "execution_count": 176,
   "metadata": {
    "collapsed": true
   },
   "outputs": [],
   "source": [
    "def transferStringToDateTime(inputtime):\n",
    "    if(str(inputtime)!=''):\n",
    "        dd=datetime.datetime.strptime(inputtime,'%y%m%d').date()\n",
    "            #this is for 62 return 1962 not 2062:\n",
    "        if  dd.year>2017:\n",
    "            new=dd.replace(year=dd.year-100)\n",
    "            return new\n",
    "        else:\n",
    "            return dd  \n",
    "    else:\n",
    "        return ''"
   ]
  },
  {
   "cell_type": "code",
   "execution_count": 177,
   "metadata": {},
   "outputs": [
    {
     "data": {
      "text/plain": [
       "datetime.date(1962, 1, 1)"
      ]
     },
     "execution_count": 177,
     "metadata": {},
     "output_type": "execute_result"
    }
   ],
   "source": [
    "transferStringToDateTime(\"620101\")"
   ]
  },
  {
   "cell_type": "code",
   "execution_count": 178,
   "metadata": {},
   "outputs": [],
   "source": [
    "#if it is first role it will return 1, if it is in secondRole list it will reture 2, and it it does not exist in both it return 3\n",
    "def checkBelongToWhichRole(code):\n",
    "    if code in firstrolelist:\n",
    "        return 1;\n",
    "    elif code in secondrolelist:\n",
    "        return 2;\n",
    "    else:\n",
    "        return 3;"
   ]
  },
  {
   "cell_type": "code",
   "execution_count": 179,
   "metadata": {
    "collapsed": true
   },
   "outputs": [],
   "source": [
    "def checkIfCountrycodeExist(code):\n",
    "    if code in countrycode:\n",
    "        return 1\n",
    "    else:\n",
    "        return 0"
   ]
  },
  {
   "cell_type": "code",
   "execution_count": 180,
   "metadata": {},
   "outputs": [],
   "source": [
    "#extract the roles and parse the string of each role to get the role format we like for our fajita website\n",
    "def extract_actor_roles(dict):\n",
    "    roles=[]\n",
    "    word=dict['actor_ar']\n",
    "    for item in dict['roles']:\n",
    "        temp=[]\n",
    "        country=item[1:4]\n",
    "        temp.append(country)\n",
    "        temp.append(checkIfCountrycodeExist(country))\n",
    "        role=item[4:7]\n",
    "        temp.append(role)\n",
    "        temp.append(checkBelongToWhichRole(role))    \n",
    "        temp.append(transferStringToDateTime(item[8:14]))\n",
    "        temp.append(transferStringToDateTime(item[15:21]))\n",
    "        temp.append(word)\n",
    "        roles.append(temp)\n",
    "    return roles"
   ]
  },
  {
   "cell_type": "code",
   "execution_count": 181,
   "metadata": {},
   "outputs": [],
   "source": [
    "midresult=extract_actor_roles(test)\n",
    "#from here each element in the list will build a dictionary entry in the mongo db"
   ]
  },
  {
   "cell_type": "code",
   "execution_count": 182,
   "metadata": {},
   "outputs": [
    {
     "data": {
      "text/plain": [
       "[['IRQ',\n",
       "  1,\n",
       "  'ELI',\n",
       "  2,\n",
       "  datetime.date(1962, 1, 1),\n",
       "  datetime.date(2003, 9, 1),\n",
       "  'أحمد الجلبي'],\n",
       " ['IRQ',\n",
       "  1,\n",
       "  'GOV',\n",
       "  1,\n",
       "  datetime.date(2003, 9, 1),\n",
       "  datetime.date(2003, 9, 30),\n",
       "  'أحمد الجلبي'],\n",
       " ['IRQ',\n",
       "  1,\n",
       "  'GOV',\n",
       "  1,\n",
       "  datetime.date(2003, 11, 1),\n",
       "  datetime.date(2004, 6, 30),\n",
       "  'أحمد الجلبي'],\n",
       " ['IRQ',\n",
       "  1,\n",
       "  'GOV',\n",
       "  1,\n",
       "  datetime.date(2005, 6, 1),\n",
       "  datetime.date(2006, 5, 31),\n",
       "  'أحمد الجلبي'],\n",
       " ['IRQ', 1, 'ELI', 2, '', '', 'أحمد الجلبي']]"
      ]
     },
     "execution_count": 182,
     "metadata": {},
     "output_type": "execute_result"
    }
   ],
   "source": [
    "midresult"
   ]
  },
  {
   "cell_type": "code",
   "execution_count": 183,
   "metadata": {},
   "outputs": [],
   "source": [
    "#generate a list of json object for each element in the list\n",
    "def generateFajitaObjectsList(midresult):\n",
    "    finalResult=[]\n",
    "    for item in midresult:\n",
    "        tempjson={}\n",
    "        #insert in all the deault stuff first\n",
    "        tempjson[\"sentenceId\"]=\"10000\"\n",
    "        tempjson[\"userName\"]=\"robot\"\n",
    "        tempjson[\"userId\"]=\"robot\"\n",
    "        tempjson[\"countryCode\"]=item[0]\n",
    "        tempjson[\"firstRoleCode\"]=\"\"\n",
    "        tempjson[\"secondRoleCode\"]=\"\"\n",
    "        tempjson[\"taggingTime\"]= datetime.datetime.now().strftime('%Y-%m-%d')\n",
    "        tempjson[\"dateStart\"]=str(item[4])\n",
    "        tempjson[\"dateEnd\"]=str(item[5])\n",
    "        tempjson[\"word\"]=item[6]\n",
    "        if(item[3]==1):\n",
    "            tempjson[\"firstRoleCode\"]=item[2]\n",
    "        elif(item[3]==2):\n",
    "            tempjson[\"secondRoleCode\"]=item[2]\n",
    "        else:\n",
    "            pass\n",
    "        finalResult.append(tempjson)\n",
    "    return finalResult"
   ]
  },
  {
   "cell_type": "code",
   "execution_count": 184,
   "metadata": {},
   "outputs": [
    {
     "data": {
      "text/plain": [
       "[{'countryCode': 'IRQ',\n",
       "  'dateEnd': '2003-09-01',\n",
       "  'dateStart': '1962-01-01',\n",
       "  'firstRoleCode': '',\n",
       "  'secondRoleCode': 'ELI',\n",
       "  'sentenceId': '10000',\n",
       "  'taggingTime': '2017-06-23',\n",
       "  'userId': 'robot',\n",
       "  'userName': 'robot',\n",
       "  'word': 'أحمد الجلبي'},\n",
       " {'countryCode': 'IRQ',\n",
       "  'dateEnd': '2003-09-30',\n",
       "  'dateStart': '2003-09-01',\n",
       "  'firstRoleCode': 'GOV',\n",
       "  'secondRoleCode': '',\n",
       "  'sentenceId': '10000',\n",
       "  'taggingTime': '2017-06-23',\n",
       "  'userId': 'robot',\n",
       "  'userName': 'robot',\n",
       "  'word': 'أحمد الجلبي'},\n",
       " {'countryCode': 'IRQ',\n",
       "  'dateEnd': '2004-06-30',\n",
       "  'dateStart': '2003-11-01',\n",
       "  'firstRoleCode': 'GOV',\n",
       "  'secondRoleCode': '',\n",
       "  'sentenceId': '10000',\n",
       "  'taggingTime': '2017-06-23',\n",
       "  'userId': 'robot',\n",
       "  'userName': 'robot',\n",
       "  'word': 'أحمد الجلبي'},\n",
       " {'countryCode': 'IRQ',\n",
       "  'dateEnd': '2006-05-31',\n",
       "  'dateStart': '2005-06-01',\n",
       "  'firstRoleCode': 'GOV',\n",
       "  'secondRoleCode': '',\n",
       "  'sentenceId': '10000',\n",
       "  'taggingTime': '2017-06-23',\n",
       "  'userId': 'robot',\n",
       "  'userName': 'robot',\n",
       "  'word': 'أحمد الجلبي'},\n",
       " {'countryCode': 'IRQ',\n",
       "  'dateEnd': '',\n",
       "  'dateStart': '',\n",
       "  'firstRoleCode': '',\n",
       "  'secondRoleCode': 'ELI',\n",
       "  'sentenceId': '10000',\n",
       "  'taggingTime': '2017-06-23',\n",
       "  'userId': 'robot',\n",
       "  'userName': 'robot',\n",
       "  'word': 'أحمد الجلبي'}]"
      ]
     },
     "execution_count": 184,
     "metadata": {},
     "output_type": "execute_result"
    }
   ],
   "source": [
    "generateFajitaObjectsList(midresult)"
   ]
  },
  {
   "cell_type": "code",
   "execution_count": 33,
   "metadata": {},
   "outputs": [],
   "source": []
  }
 ],
 "metadata": {
  "kernelspec": {
   "display_name": "Python 3",
   "language": "python",
   "name": "python3"
  },
  "language_info": {
   "codemirror_mode": {
    "name": "ipython",
    "version": 3
   },
   "file_extension": ".py",
   "mimetype": "text/x-python",
   "name": "python",
   "nbconvert_exporter": "python",
   "pygments_lexer": "ipython3",
   "version": "3.5.2"
  }
 },
 "nbformat": 4,
 "nbformat_minor": 2
}
