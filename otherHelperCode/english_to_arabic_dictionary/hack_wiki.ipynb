{
 "cells": [
  {
   "cell_type": "code",
   "execution_count": 1,
   "metadata": {
    "collapsed": true
   },
   "outputs": [],
   "source": [
    "#https://en.wikipedia.org/wiki\n",
    "import requests\n",
    "from bs4 import BeautifulSoup\n",
    "import re\n",
    "import json\n",
    "import pickle\n",
    "import datetime\n",
    "    "
   ]
  },
  {
   "cell_type": "code",
   "execution_count": 2,
   "metadata": {
    "collapsed": true
   },
   "outputs": [],
   "source": [
    "def name_formatter(name):\n",
    "    name = re.sub(\"_\", \" \", name).strip().title()\n",
    "    return(name)"
   ]
  },
  {
   "cell_type": "code",
   "execution_count": 6,
   "metadata": {},
   "outputs": [
    {
     "data": {
      "text/plain": [
       "'Mohammad Najibullah'"
      ]
     },
     "execution_count": 6,
     "metadata": {},
     "output_type": "execute_result"
    }
   ],
   "source": [
    "name_formatter(\"Mohammad_Najibullah\")"
   ]
  },
  {
   "cell_type": "code",
   "execution_count": 3,
   "metadata": {
    "collapsed": true
   },
   "outputs": [],
   "source": [
    "def ar_lookup(name):\n",
    "    \"\"\"\n",
    "    Convert names from English to Arabic using European Media Monitors and \n",
    "     code modified from Phil Schrodt.\n",
    "    \"\"\"\n",
    "    name = name_formatter(name)\n",
    "    base_url = \"http://emm.newsexplorer.eu/NewsExplorer/search/en/entities?query=\"\n",
    "    url = base_url + name\n",
    "    \n",
    "    try:\n",
    "        page = requests.get(url)\n",
    "        soup = BeautifulSoup(page.content, \"lxml\")\n",
    "        name_url = soup.find(\"p\", {\"class\" : \"center_headline\"}).find(\"a\")['href']\n",
    "    except Exception as e:\n",
    "        #print(\"Couldn't get page of results back: \", e)\n",
    "        return []\n",
    "\n",
    "    try:\n",
    "        base = \"http://emm.newsexplorer.eu/NewsExplorer/search/en/\"\n",
    "        name_url = base + name_url\n",
    "        name_page = requests.get(name_url)\n",
    "        soup = BeautifulSoup(name_page.content, \"lxml\")\n",
    "        # check to make sure in list???? Take in alt names???/petrarch2/petrarch2/data/dictionaries\n",
    "        names = soup.find(\"td\", {\"colspan\" : \"1\"}).find_all(\"p\")\n",
    "        names = [i.text for i in names][1:]\n",
    "        names_en = [i for i in names if re.search(\"\\(.*?Eu|\\(.*?en\", i)]\n",
    "        names_en = [re.sub(\"\\s+?\\(.+?\\)\", \"\", name) for name in names_en]\n",
    "        #print(\"Found match. Matched English name: \", names_en[0])\n",
    "        names_ar = [i for i in names if re.search(\"\\(.*?ar\", i)]\n",
    "        names_ar = [re.sub(\"\\s+?\\(.+?\\)\", \"\", name) for name in names_ar]\n",
    "        return names_ar\n",
    "    except Exception:\n",
    "        traceback.print_exc()\n",
    "        return []"
   ]
  },
  {
   "cell_type": "code",
   "execution_count": 37,
   "metadata": {},
   "outputs": [],
   "source": [
    "#this will need the user to pass in an english name and come back with an arabic name\n",
    "def hack_wiki(eng_name):\n",
    "    base_url=\"https://en.wikipedia.org/wiki/\"+eng_name\n",
    "    try:\n",
    "        page=requests.get(base_url)\n",
    "        soup=BeautifulSoup(page.content,\"lxml\")\n",
    "        name=soup.find(id=\"firstHeading\").contents\n",
    "        ar_url=soup.find(\"li\",{\"class\":\"interwiki-ar\"}).find(\"a\")['href']\n",
    "        #print(ar_url)\n",
    "        ar_page=requests.get(ar_url)\n",
    "        ar_soup=BeautifulSoup(ar_page.content,\"lxml\")\n",
    "        ar_name=ar_soup.find(id=\"firstHeading\").contents\n",
    "        print(ar_name)\n",
    "        #print(\"name \"+name+\" url: \"+str(ar_url))\n",
    "    except Exception as e:\n",
    "        print(e)"
   ]
  },
  {
   "cell_type": "code",
   "execution_count": 38,
   "metadata": {},
   "outputs": [
    {
     "name": "stdout",
     "output_type": "stream",
     "text": [
      "['محمد نجيب الله']\n"
     ]
    }
   ],
   "source": [
    "hack_wiki(\"Mohammad_Najibullah\")"
   ]
  },
  {
   "cell_type": "code",
   "execution_count": null,
   "metadata": {
    "collapsed": true
   },
   "outputs": [],
   "source": []
  }
 ],
 "metadata": {
  "kernelspec": {
   "display_name": "Python 3",
   "language": "python",
   "name": "python3"
  },
  "language_info": {
   "codemirror_mode": {
    "name": "ipython",
    "version": 3
   },
   "file_extension": ".py",
   "mimetype": "text/x-python",
   "name": "python",
   "nbconvert_exporter": "python",
   "pygments_lexer": "ipython3",
   "version": "3.5.2"
  }
 },
 "nbformat": 4,
 "nbformat_minor": 2
}
